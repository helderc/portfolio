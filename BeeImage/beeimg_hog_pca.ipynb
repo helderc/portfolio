{
 "cells": [
  {
   "cell_type": "code",
   "execution_count": 29,
   "id": "a81a51a2",
   "metadata": {},
   "outputs": [],
   "source": [
    "import os, sys\n",
    "\n",
    "import matplotlib as mpl\n",
    "import matplotlib.pyplot as plt\n",
    "from IPython.display import display\n",
    "%matplotlib inline\n",
    "\n",
    "import pandas as pd\n",
    "import numpy as np\n",
    "\n",
    "# import Image from PIL\n",
    "from PIL import Image\n",
    "\n",
    "from skimage.feature import hog\n",
    "from skimage.color import rgb2gray\n",
    "\n",
    "from sklearn.preprocessing import StandardScaler\n",
    "from sklearn.decomposition import PCA\n",
    "\n",
    "# import train_test_split from sklearn's model selection module\n",
    "from sklearn.model_selection import train_test_split\n",
    "\n",
    "# import SVC from sklearn's svm module\n",
    "from sklearn.svm import SVC\n",
    "\n",
    "# import accuracy_score from sklearn's metrics module\n",
    "from sklearn.metrics import roc_curve, auc, accuracy_score\n",
    "\n",
    "#\n",
    "HIGHLIGHT_ON = '\\x1b[1;33;40m'\n",
    "HIGHLIGHT_OFF =  '\\x1b[m!'"
   ]
  },
  {
   "cell_type": "markdown",
   "id": "dfd1d13c",
   "metadata": {},
   "source": [
    "## BeeImage Dataset\n",
    "https://www.kaggle.com/datasets/jenny18/honey-bee-annotated-images\n",
    "\n",
    "Based on DataCamp's Naive Bees project: https://app.datacamp.com/learn/projects/412\n",
    "\n",
    "### Data Preprocessing"
   ]
  },
  {
   "cell_type": "code",
   "execution_count": 2,
   "id": "8a7e0072",
   "metadata": {},
   "outputs": [
    {
     "data": {
      "text/html": [
       "<div>\n",
       "<style scoped>\n",
       "    .dataframe tbody tr th:only-of-type {\n",
       "        vertical-align: middle;\n",
       "    }\n",
       "\n",
       "    .dataframe tbody tr th {\n",
       "        vertical-align: top;\n",
       "    }\n",
       "\n",
       "    .dataframe thead th {\n",
       "        text-align: right;\n",
       "    }\n",
       "</style>\n",
       "<table border=\"1\" class=\"dataframe\">\n",
       "  <thead>\n",
       "    <tr style=\"text-align: right;\">\n",
       "      <th></th>\n",
       "      <th>date</th>\n",
       "      <th>time</th>\n",
       "      <th>location</th>\n",
       "      <th>zip code</th>\n",
       "      <th>subspecies</th>\n",
       "      <th>health</th>\n",
       "      <th>pollen_carrying</th>\n",
       "      <th>caste</th>\n",
       "    </tr>\n",
       "    <tr>\n",
       "      <th>file</th>\n",
       "      <th></th>\n",
       "      <th></th>\n",
       "      <th></th>\n",
       "      <th></th>\n",
       "      <th></th>\n",
       "      <th></th>\n",
       "      <th></th>\n",
       "      <th></th>\n",
       "    </tr>\n",
       "  </thead>\n",
       "  <tbody>\n",
       "    <tr>\n",
       "      <th>017_029.png</th>\n",
       "      <td>8/6/18</td>\n",
       "      <td>13:21</td>\n",
       "      <td>Saratoga, CA, USA</td>\n",
       "      <td>95070</td>\n",
       "      <td>Italian honey bee</td>\n",
       "      <td>healthy</td>\n",
       "      <td>False</td>\n",
       "      <td>worker</td>\n",
       "    </tr>\n",
       "    <tr>\n",
       "      <th>017_015.png</th>\n",
       "      <td>8/6/18</td>\n",
       "      <td>13:21</td>\n",
       "      <td>Saratoga, CA, USA</td>\n",
       "      <td>95070</td>\n",
       "      <td>Italian honey bee</td>\n",
       "      <td>healthy</td>\n",
       "      <td>False</td>\n",
       "      <td>worker</td>\n",
       "    </tr>\n",
       "    <tr>\n",
       "      <th>017_001.png</th>\n",
       "      <td>8/6/18</td>\n",
       "      <td>13:21</td>\n",
       "      <td>Saratoga, CA, USA</td>\n",
       "      <td>95070</td>\n",
       "      <td>Italian honey bee</td>\n",
       "      <td>healthy</td>\n",
       "      <td>False</td>\n",
       "      <td>worker</td>\n",
       "    </tr>\n",
       "    <tr>\n",
       "      <th>017_000.png</th>\n",
       "      <td>8/6/18</td>\n",
       "      <td>13:21</td>\n",
       "      <td>Saratoga, CA, USA</td>\n",
       "      <td>95070</td>\n",
       "      <td>Italian honey bee</td>\n",
       "      <td>healthy</td>\n",
       "      <td>False</td>\n",
       "      <td>worker</td>\n",
       "    </tr>\n",
       "    <tr>\n",
       "      <th>017_014.png</th>\n",
       "      <td>8/6/18</td>\n",
       "      <td>13:21</td>\n",
       "      <td>Saratoga, CA, USA</td>\n",
       "      <td>95070</td>\n",
       "      <td>Italian honey bee</td>\n",
       "      <td>healthy</td>\n",
       "      <td>False</td>\n",
       "      <td>worker</td>\n",
       "    </tr>\n",
       "  </tbody>\n",
       "</table>\n",
       "</div>"
      ],
      "text/plain": [
       "               date   time           location  zip code         subspecies  \\\n",
       "file                                                                         \n",
       "017_029.png  8/6/18  13:21  Saratoga, CA, USA     95070  Italian honey bee   \n",
       "017_015.png  8/6/18  13:21  Saratoga, CA, USA     95070  Italian honey bee   \n",
       "017_001.png  8/6/18  13:21  Saratoga, CA, USA     95070  Italian honey bee   \n",
       "017_000.png  8/6/18  13:21  Saratoga, CA, USA     95070  Italian honey bee   \n",
       "017_014.png  8/6/18  13:21  Saratoga, CA, USA     95070  Italian honey bee   \n",
       "\n",
       "              health  pollen_carrying   caste  \n",
       "file                                           \n",
       "017_029.png  healthy            False  worker  \n",
       "017_015.png  healthy            False  worker  \n",
       "017_001.png  healthy            False  worker  \n",
       "017_000.png  healthy            False  worker  \n",
       "017_014.png  healthy            False  worker  "
      ]
     },
     "execution_count": 2,
     "metadata": {},
     "output_type": "execute_result"
    }
   ],
   "source": [
    "data = pd.read_csv('bee_data.csv', index_col=0)\n",
    "\n",
    "# droping subspecies = -1\n",
    "data.drop(data[data.subspecies == '-1'].index, inplace=True)\n",
    "\n",
    "data.head()"
   ]
  },
  {
   "cell_type": "code",
   "execution_count": 5,
   "id": "869c1909",
   "metadata": {},
   "outputs": [],
   "source": [
    "# removing all other collumns\n",
    "data = data[['subspecies']]\n",
    "data.head()"
   ]
  },
  {
   "cell_type": "code",
   "execution_count": 7,
   "id": "06961761",
   "metadata": {},
   "outputs": [
    {
     "data": {
      "text/plain": [
       "Italian honey bee        3008\n",
       "Russian honey bee         527\n",
       "Carniolan honey bee       501\n",
       "1 Mixed local stock 2     472\n",
       "VSH Italian honey bee     199\n",
       "Western honey bee          37\n",
       "Name: subspecies, dtype: int64"
      ]
     },
     "execution_count": 7,
     "metadata": {},
     "output_type": "execute_result"
    }
   ],
   "source": [
    "pd.Series(data['subspecies']).value_counts()"
   ]
  },
  {
   "cell_type": "code",
   "execution_count": 8,
   "id": "8d9cf8b5",
   "metadata": {},
   "outputs": [
    {
     "data": {
      "text/html": [
       "<div>\n",
       "<style scoped>\n",
       "    .dataframe tbody tr th:only-of-type {\n",
       "        vertical-align: middle;\n",
       "    }\n",
       "\n",
       "    .dataframe tbody tr th {\n",
       "        vertical-align: top;\n",
       "    }\n",
       "\n",
       "    .dataframe thead th {\n",
       "        text-align: right;\n",
       "    }\n",
       "</style>\n",
       "<table border=\"1\" class=\"dataframe\">\n",
       "  <thead>\n",
       "    <tr style=\"text-align: right;\">\n",
       "      <th></th>\n",
       "      <th>subspecies</th>\n",
       "    </tr>\n",
       "    <tr>\n",
       "      <th>file</th>\n",
       "      <th></th>\n",
       "    </tr>\n",
       "  </thead>\n",
       "  <tbody>\n",
       "    <tr>\n",
       "      <th>011_027.png</th>\n",
       "      <td>Carniolan honey bee</td>\n",
       "    </tr>\n",
       "    <tr>\n",
       "      <th>011_018.png</th>\n",
       "      <td>Carniolan honey bee</td>\n",
       "    </tr>\n",
       "    <tr>\n",
       "      <th>011_030.png</th>\n",
       "      <td>Carniolan honey bee</td>\n",
       "    </tr>\n",
       "    <tr>\n",
       "      <th>011_024.png</th>\n",
       "      <td>Carniolan honey bee</td>\n",
       "    </tr>\n",
       "    <tr>\n",
       "      <th>011_025.png</th>\n",
       "      <td>Carniolan honey bee</td>\n",
       "    </tr>\n",
       "  </tbody>\n",
       "</table>\n",
       "</div>"
      ],
      "text/plain": [
       "                      subspecies\n",
       "file                            \n",
       "011_027.png  Carniolan honey bee\n",
       "011_018.png  Carniolan honey bee\n",
       "011_030.png  Carniolan honey bee\n",
       "011_024.png  Carniolan honey bee\n",
       "011_025.png  Carniolan honey bee"
      ]
     },
     "execution_count": 8,
     "metadata": {},
     "output_type": "execute_result"
    }
   ],
   "source": [
    "# considering only two species\n",
    "data2 = data.query('subspecies == \"Russian honey bee\" or subspecies == \"Carniolan honey bee\"')\n",
    "data2.head()"
   ]
  },
  {
   "cell_type": "code",
   "execution_count": 9,
   "id": "c1ea0a54",
   "metadata": {},
   "outputs": [
    {
     "data": {
      "text/plain": [
       "Russian honey bee      527\n",
       "Carniolan honey bee    501\n",
       "Name: subspecies, dtype: int64"
      ]
     },
     "execution_count": 9,
     "metadata": {},
     "output_type": "execute_result"
    }
   ],
   "source": [
    "pd.Series(data2['subspecies']).value_counts()"
   ]
  },
  {
   "cell_type": "code",
   "execution_count": 10,
   "id": "d56ef44f",
   "metadata": {},
   "outputs": [
    {
     "data": {
      "text/html": [
       "<div>\n",
       "<style scoped>\n",
       "    .dataframe tbody tr th:only-of-type {\n",
       "        vertical-align: middle;\n",
       "    }\n",
       "\n",
       "    .dataframe tbody tr th {\n",
       "        vertical-align: top;\n",
       "    }\n",
       "\n",
       "    .dataframe thead th {\n",
       "        text-align: right;\n",
       "    }\n",
       "</style>\n",
       "<table border=\"1\" class=\"dataframe\">\n",
       "  <thead>\n",
       "    <tr style=\"text-align: right;\">\n",
       "      <th></th>\n",
       "      <th>subspecies</th>\n",
       "    </tr>\n",
       "    <tr>\n",
       "      <th>file</th>\n",
       "      <th></th>\n",
       "    </tr>\n",
       "  </thead>\n",
       "  <tbody>\n",
       "    <tr>\n",
       "      <th>011_027.png</th>\n",
       "      <td>1</td>\n",
       "    </tr>\n",
       "    <tr>\n",
       "      <th>011_018.png</th>\n",
       "      <td>1</td>\n",
       "    </tr>\n",
       "    <tr>\n",
       "      <th>011_030.png</th>\n",
       "      <td>1</td>\n",
       "    </tr>\n",
       "    <tr>\n",
       "      <th>011_024.png</th>\n",
       "      <td>1</td>\n",
       "    </tr>\n",
       "    <tr>\n",
       "      <th>011_025.png</th>\n",
       "      <td>1</td>\n",
       "    </tr>\n",
       "  </tbody>\n",
       "</table>\n",
       "</div>"
      ],
      "text/plain": [
       "             subspecies\n",
       "file                   \n",
       "011_027.png           1\n",
       "011_018.png           1\n",
       "011_030.png           1\n",
       "011_024.png           1\n",
       "011_025.png           1"
      ]
     },
     "execution_count": 10,
     "metadata": {},
     "output_type": "execute_result"
    }
   ],
   "source": [
    "col_encoding = {'subspecies': \n",
    "                    {'Russian honey bee': 0, 'Carniolan honey bee': 1}\n",
    "               }\n",
    "\n",
    "data2 = data2.replace(col_encoding)\n",
    "data2.head()"
   ]
  },
  {
   "cell_type": "code",
   "execution_count": 11,
   "id": "3b3fc0b6",
   "metadata": {},
   "outputs": [
    {
     "name": "stdout",
     "output_type": "stream",
     "text": [
      "002_022.png\n",
      "011_019.png\n"
     ]
    },
    {
     "data": {
      "image/png": "[encoded data removed]",
      "text/plain": [
       "<Figure size 432x288 with 2 Axes>"
      ]
     },
     "metadata": {
      "needs_background": "light"
     },
     "output_type": "display_data"
    }
   ],
   "source": [
    "labels = data2['subspecies']\n",
    "\n",
    "def get_image(img_name, root=\"bee_imgs/\"):\n",
    "    \"\"\"\n",
    "    Converts an image number into the file path where the image is located, \n",
    "    opens the image, and returns the image as a numpy array.\n",
    "    \"\"\"\n",
    "    file_path = os.path.join(root, img_name)\n",
    "    img = Image.open(file_path)\n",
    "    img = img.resize((100,100))\n",
    "    \n",
    "    # two images has 4 layers!\n",
    "    return np.array(img)[:,:,:3]\n",
    "\n",
    "# subset the dataframe to just Apis (genus is 0.0) get the value of the sixth item in the index\n",
    "img_name = data2[data2.subspecies == 0].index[5]\n",
    "print(img_name)\n",
    "\n",
    "plt.subplot(1,2,1)\n",
    "plt.imshow(get_image(img_name))\n",
    "plt.title(img_name)\n",
    "\n",
    "# subset the dataframe to just Bombus (genus is 1.0) get the value of the sixth item in the index\n",
    "img_name = data2[data2.subspecies == 1].index[5]\n",
    "print(img_name)\n",
    "\n",
    "# show the corresponding image of a Bombus\n",
    "plt.subplot(1,2,2)\n",
    "plt.imshow(get_image(img_name))\n",
    "plt.title(img_name)\n",
    "plt.show()"
   ]
  },
  {
   "cell_type": "code",
   "execution_count": 31,
   "id": "5f8162ff",
   "metadata": {},
   "outputs": [
    {
     "name": "stdout",
     "output_type": "stream",
     "text": [
      "--> Color image shape: \u001b[1;33;40m(100, 100, 3)\u001b[m!\n",
      "--> Grayscale image shape: \u001b[1;33;40m(100, 100)\u001b[m!\n"
     ]
    },
    {
     "data": {
      "image/png": "[encoded data removed]",
      "text/plain": [
       "<Figure size 432x288 with 1 Axes>"
      ]
     },
     "metadata": {
      "needs_background": "light"
     },
     "output_type": "display_data"
    }
   ],
   "source": [
    "# load a bombus image using our get_image function and bombus_row from the previous cell\n",
    "img = get_image(img_name)\n",
    "\n",
    "# print the shape of the bombus image\n",
    "print(f'--> Color image shape: {HIGHLIGHT_ON}{img.shape}{HIGHLIGHT_OFF}')\n",
    "\n",
    "# convert the bombus image to grayscale\n",
    "gray_img = rgb2gray(img)\n",
    "\n",
    "# show the grayscale image\n",
    "plt.imshow(gray_img, cmap=mpl.cm.gray)\n",
    "\n",
    "# grayscale bombus image only has one channel\n",
    "print(f'--> Grayscale image shape: {HIGHLIGHT_ON}{gray_img.shape}{HIGHLIGHT_OFF}')"
   ]
  },
  {
   "cell_type": "markdown",
   "id": "e1e7b644",
   "metadata": {},
   "source": [
    "## Feature Extraction\n",
    "\n",
    "### Histogram of Oriented Gradients (HOG)"
   ]
  },
  {
   "cell_type": "code",
   "execution_count": 13,
   "id": "64aa8706",
   "metadata": {},
   "outputs": [
    {
     "data": {
      "text/plain": [
       "<matplotlib.image.AxesImage at 0x24d7d199250>"
      ]
     },
     "execution_count": 13,
     "metadata": {},
     "output_type": "execute_result"
    },
    {
     "data": {
      "image/png": "[encoded data removed]",
      "text/plain": [
       "<Figure size 432x288 with 1 Axes>"
      ]
     },
     "metadata": {
      "needs_background": "light"
     },
     "output_type": "display_data"
    }
   ],
   "source": [
    "# run HOG using our grayscale bombus image\n",
    "hog_features, hog_image = hog(img,\n",
    "                              visualize=True,\n",
    "                              block_norm='L2-Hys',\n",
    "                              pixels_per_cell=(16, 16))\n",
    "\n",
    "# show our hog_image with a gray colormap\n",
    "plt.imshow(hog_image, cmap=mpl.cm.gray);"
   ]
  },
  {
   "cell_type": "markdown",
   "id": "829aed06",
   "metadata": {},
   "source": [
    "### Two features: HOG + Pixel intensities"
   ]
  },
  {
   "cell_type": "code",
   "execution_count": 14,
   "id": "e370e459",
   "metadata": {},
   "outputs": [
    {
     "name": "stdout",
     "output_type": "stream",
     "text": [
      "(31296,) <class 'numpy.ndarray'> [2.25000000e+02 2.26000000e+02 2.29000000e+02 ... 5.19654416e-02\n",
      " 4.27715697e-02 6.05196450e-02]\n"
     ]
    }
   ],
   "source": [
    "def create_features(img):\n",
    "    # flatten three channel color image\n",
    "    color_features = img.flatten()\n",
    "    # convert image to grayscale\n",
    "    gray_image = rgb2gray(img)\n",
    "    # get HOG features from grayscale image\n",
    "    hog_features = hog(gray_image, block_norm='L2-Hys', pixels_per_cell=(16, 16))\n",
    "    # combine color and hog features into a single array\n",
    "    flat_features = np.hstack((color_features, hog_features))\n",
    "    return flat_features\n",
    "\n",
    "bombus_features = create_features(img)\n",
    "\n",
    "# print shape of bombus_features\n",
    "print(bombus_features.shape, type(bombus_features), bombus_features)"
   ]
  },
  {
   "cell_type": "code",
   "execution_count": 32,
   "id": "68318164",
   "metadata": {},
   "outputs": [
    {
     "name": "stdout",
     "output_type": "stream",
     "text": [
      "--> Size of the features matrix: \u001b[1;33;40m(1028, 31296)\u001b[m!\n"
     ]
    }
   ],
   "source": [
    "def create_feature_matrix(label_dataframe):\n",
    "    features_list = []\n",
    "    \n",
    "    for img_id in label_dataframe.index:\n",
    "        # load image\n",
    "        imgi = get_image(img_id)\n",
    "        # get features for image\n",
    "        image_features = create_features(imgi)\n",
    "        features_list.append(image_features)\n",
    "    \n",
    "    # convert list of arrays into a matrix\n",
    "    feature_matrix = np.array(features_list)\n",
    "    return feature_matrix\n",
    "\n",
    "# run create_feature_matrix on our dataframe of images\n",
    "feature_matrix = create_feature_matrix(data2)\n",
    "print(f'--> Size of the features matrix: {HIGHLIGHT_ON}{feature_matrix.shape}{HIGHLIGHT_OFF}')"
   ]
  },
  {
   "cell_type": "code",
   "execution_count": 16,
   "id": "0ece75e1",
   "metadata": {},
   "outputs": [
    {
     "name": "stdout",
     "output_type": "stream",
     "text": [
      "(100, 100, 3)\n"
     ]
    }
   ],
   "source": [
    "img = get_image('032_499.png')\n",
    "print(img.shape)"
   ]
  },
  {
   "cell_type": "markdown",
   "id": "17038c0d",
   "metadata": {},
   "source": [
    "### Splitting data: 70% training, 30% testing"
   ]
  },
  {
   "cell_type": "code",
   "execution_count": 17,
   "id": "f18aee1c",
   "metadata": {},
   "outputs": [
    {
     "name": "stdout",
     "output_type": "stream",
     "text": [
      "0    369\n",
      "1    350\n",
      "Name: subspecies, dtype: int64\n",
      "0    158\n",
      "1    151\n",
      "Name: subspecies, dtype: int64\n"
     ]
    }
   ],
   "source": [
    "# split the data into training and test sets\n",
    "X_train, X_test, y_train, y_test = train_test_split(feature_matrix,\n",
    "                                                    data2.subspecies,\n",
    "                                                    test_size=.3,\n",
    "                                                    stratify=data2.subspecies,\n",
    "                                                    random_state=1234123)\n",
    "\n",
    "# look at the distribution of labels in the train set\n",
    "print(pd.Series(y_train).value_counts())\n",
    "print(pd.Series(y_test).value_counts())"
   ]
  },
  {
   "cell_type": "markdown",
   "id": "fd1507cb",
   "metadata": {},
   "source": [
    "### Normalization"
   ]
  },
  {
   "cell_type": "code",
   "execution_count": 18,
   "id": "40f12776",
   "metadata": {},
   "outputs": [
    {
     "name": "stdout",
     "output_type": "stream",
     "text": [
      "Training features matrix shape is:  (719, 31296)\n",
      "Standardized training features matrix shape is:  (719, 31296)\n",
      "Standardized test features matrix shape is:  (309, 31296)\n"
     ]
    }
   ],
   "source": [
    "# get shape of our training features\n",
    "print('Training features matrix shape is: ', X_train.shape)\n",
    "\n",
    "# define standard scaler\n",
    "ss = StandardScaler()\n",
    "\n",
    "# fit the scaler and transform the training features\n",
    "train_stand = ss.fit_transform(X_train)\n",
    "\n",
    "# transform the test features\n",
    "test_stand = ss.transform(X_test)\n",
    "\n",
    "# look at the new shape of the standardized feature matrices\n",
    "print('Standardized training features matrix shape is: ', train_stand.shape)\n",
    "print('Standardized test features matrix shape is: ', test_stand.shape)"
   ]
  },
  {
   "cell_type": "markdown",
   "id": "578fbc64",
   "metadata": {},
   "source": [
    "## Principal Component Analysis"
   ]
  },
  {
   "cell_type": "code",
   "execution_count": 19,
   "id": "4137aefb",
   "metadata": {},
   "outputs": [
    {
     "name": "stdout",
     "output_type": "stream",
     "text": [
      "Training features matrix is:  (719, 350)\n",
      "Test features matrix is:  (309, 350)\n"
     ]
    }
   ],
   "source": [
    "# Instantiate a PCA object with 350 components\n",
    "pca = PCA(n_components=350)\n",
    "\n",
    "# use fit_transform on our standardized training features\n",
    "X_train = pca.fit_transform(train_stand)\n",
    "\n",
    "# use transform on our standardized test features\n",
    "X_test = pca.transform(test_stand)\n",
    "\n",
    "# look at new shape\n",
    "print('Training features matrix is: ', X_train.shape)\n",
    "print('Test features matrix is: ', X_test.shape)"
   ]
  },
  {
   "cell_type": "markdown",
   "id": "533be9a0",
   "metadata": {},
   "source": [
    "## Classifier: Support Vector Machine (SVM)"
   ]
  },
  {
   "cell_type": "code",
   "execution_count": 33,
   "id": "6827dd0d",
   "metadata": {},
   "outputs": [
    {
     "name": "stdout",
     "output_type": "stream",
     "text": [
      "--> Model accuracy \u001b[1;33;40m0.9902912621359223\u001b[m!\n"
     ]
    }
   ],
   "source": [
    "# define support vector classifier\n",
    "svm = SVC(kernel='linear', probability=True, random_state=42)\n",
    "\n",
    "# fit model\n",
    "svm.fit(X_train, y_train)\n",
    "\n",
    "# generate predictions\n",
    "y_pred = svm.predict(X_test)\n",
    "\n",
    "# calculate accuracy\n",
    "accuracy = accuracy_score(y_test, y_pred)\n",
    "print(f'--> Model accuracy {HIGHLIGHT_ON}{accuracy}{HIGHLIGHT_OFF}')"
   ]
  },
  {
   "cell_type": "markdown",
   "id": "f530fe6a",
   "metadata": {},
   "source": [
    "### Prediction on Test set"
   ]
  },
  {
   "cell_type": "code",
   "execution_count": 21,
   "id": "dc117339",
   "metadata": {},
   "outputs": [
    {
     "data": {
      "image/png": "[encoded data removed]",
      "text/plain": [
       "<Figure size 432x288 with 1 Axes>"
      ]
     },
     "metadata": {
      "needs_background": "light"
     },
     "output_type": "display_data"
    }
   ],
   "source": [
    "# predict probabilities for X_test using predict_proba\n",
    "probabilities = svm.predict_proba(X_test)\n",
    "\n",
    "# select the probabilities for label 1.0\n",
    "y_proba = probabilities[:,1]\n",
    "\n",
    "# calculate false positive rate and true positive rate at different thresholds\n",
    "false_positive_rate, true_positive_rate, thresholds = roc_curve(y_test, y_proba, pos_label=1)\n",
    "\n",
    "# calculate AUC\n",
    "roc_auc = auc(false_positive_rate, true_positive_rate)\n",
    "\n",
    "plt.title('Receiver Operating Characteristic')\n",
    "# plot the false positive rate on the x axis and the true positive rate on the y axis\n",
    "roc_plot = plt.plot(false_positive_rate,\n",
    "                    true_positive_rate,\n",
    "                    label='AUC = {:0.2f}'.format(roc_auc))\n",
    "\n",
    "plt.legend(loc=0)\n",
    "plt.plot([0,1], [0,1], ls='--')\n",
    "plt.ylabel('True Positive Rate')\n",
    "plt.xlabel('False Positive Rate');"
   ]
  },
  {
   "cell_type": "code",
   "execution_count": null,
   "id": "4750f15c",
   "metadata": {},
   "outputs": [],
   "source": []
  }
 ],
 "metadata": {
  "kernelspec": {
   "display_name": "Python 3 (ipykernel)",
   "language": "python",
   "name": "python3"
  },
  "language_info": {
   "codemirror_mode": {
    "name": "ipython",
    "version": 3
   },
   "file_extension": ".py",
   "mimetype": "text/x-python",
   "name": "python",
   "nbconvert_exporter": "python",
   "pygments_lexer": "ipython3",
   "version": "3.9.12"
  }
 },
 "nbformat": 4,
 "nbformat_minor": 5
}
